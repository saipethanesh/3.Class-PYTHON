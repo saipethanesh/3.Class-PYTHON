{
 "cells": [
  {
   "cell_type": "code",
   "execution_count": 1,
   "id": "b88b55f1-4817-4105-a8bb-f0dc3d94ab41",
   "metadata": {},
   "outputs": [
    {
     "name": "stdout",
     "output_type": "stream",
     "text": [
      "Items in the list:\n",
      "apple\n",
      "banana\n",
      "orange\n",
      "grape\n"
     ]
    }
   ],
   "source": [
    "class ListManager:\n",
    "    def __init__(self, items):\n",
    "        self.items = items\n",
    "    \n",
    "    def list_items(self):\n",
    "        print(\"Items in the list:\")\n",
    "        for item in self.items:\n",
    "            print(item)\n",
    "my_list_manager = ListManager(['apple', 'banana', 'orange', 'grape'])\n",
    "my_list_manager.list_items()\n"
   ]
  },
  {
   "cell_type": "code",
   "execution_count": 4,
   "id": "a2fa95e9-dc16-423d-bfa3-b22a0b5c418a",
   "metadata": {},
   "outputs": [
    {
     "name": "stdout",
     "output_type": "stream",
     "text": [
      "Subfields_in_ai:\n",
      "Machine Learning\n",
      "Neural Networks\n",
      "Vision\n",
      "Robotics\n",
      "Speech Processing\n",
      "Natural Language Processing\n"
     ]
    }
   ],
   "source": [
    "class MyClass:\n",
    "    Subfields_in_ai = [\"Machine Learning\", \"Neural Networks\", \"Vision\", \"Robotics\", \"Speech Processing\", \"Natural Language Processing\"]\n",
    "\n",
    "    def print_subfields(self):\n",
    "        print(\"Subfields_in_ai:\")\n",
    "        for x in self.Subfields_in_ai:\n",
    "            print(x)\n",
    "\n",
    "my_instance = MyClass()\n",
    "my_instance.print_subfields()\n",
    "\n"
   ]
  },
  {
   "cell_type": "code",
   "execution_count": 13,
   "id": "38365794-8a27-4db8-b98a-c3f1e2ce62a6",
   "metadata": {},
   "outputs": [
    {
     "name": "stdin",
     "output_type": "stream",
     "text": [
      "Enter a number:  2\n"
     ]
    },
    {
     "name": "stdout",
     "output_type": "stream",
     "text": [
      "the given number is even\n"
     ]
    }
   ],
   "source": [
    "class OddEven():\n",
    "    def OddEven(self):\n",
    "        num = int(input(\"Enter a number: \"))\n",
    "        if num % 2 == 0:\n",
    "           print(\"the given number is even\") \n",
    "        else:\n",
    "             print(\"the given number is odd \") \n",
    "        \n",
    "oddeven_checker = OddEven()\n",
    "oddeven_checker.OddEven()    \n"
   ]
  },
  {
   "cell_type": "code",
   "execution_count": 14,
   "id": "c5c4bcec-6320-4c8a-80f1-ffd6ef5466e6",
   "metadata": {},
   "outputs": [
    {
     "name": "stdin",
     "output_type": "stream",
     "text": [
      "Enter a number:   52452\n"
     ]
    },
    {
     "name": "stdout",
     "output_type": "stream",
     "text": [
      "the given number is even\n"
     ]
    }
   ],
   "source": [
    "class OddEven():\n",
    "    def OddEven(self):\n",
    "        num = int(input(\"Enter a number: \"))\n",
    "        if num % 2 == 0:\n",
    "           print(\"the given number is even\") \n",
    "        else:\n",
    "             print(\"the given number is odd \") \n",
    "        \n",
    "oddeven_checker = OddEven()\n",
    "oddeven_checker.OddEven()    \n"
   ]
  },
  {
   "cell_type": "code",
   "execution_count": 20,
   "id": "c2829fd0-43e6-4e54-b390-1ce999f1ffa7",
   "metadata": {},
   "outputs": [
    {
     "name": "stdout",
     "output_type": "stream",
     "text": [
      "Eligible for marriage\n",
      "Eligible for marriage\n"
     ]
    }
   ],
   "source": [
    "class check_eligibility :\n",
    "    def check_eligibility(self, gender, age):\n",
    "        if gender == \"male\" and age >= 21:\n",
    "            return \"Eligible for marriage\"\n",
    "        elif gender == \"female\" and age >= 18:\n",
    "            return \"Eligible for marriage\"\n",
    "        else:\n",
    "            return \"Not eligible for marriage\"\n",
    "\n",
    "\n",
    "\n",
    "\n",
    "print(eligible_instance.check_eligibility(\"male\", 25))   \n",
    "print(eligible_instance.check_eligibility(\"female\", 20))\n"
   ]
  },
  {
   "cell_type": "code",
   "execution_count": 36,
   "id": "e929b6e2-91dc-4305-84f9-dd70922fdf96",
   "metadata": {},
   "outputs": [
    {
     "name": "stdin",
     "output_type": "stream",
     "text": [
      "Your Gender: male\n",
      "Your Age: 20\n"
     ]
    },
    {
     "name": "stdout",
     "output_type": "stream",
     "text": [
      "NOT ELIGIBLE\n"
     ]
    }
   ],
   "source": [
    "class CheckEligibility:\n",
    "    def check_eligibility(self):\n",
    "        gender = input(\"Your Gender:\").lower()\n",
    "        age = int(input(\"Your Age:\"))\n",
    "        \n",
    "        if gender == \"male\" and age >= 21:\n",
    "            print(\"ELIGIBLE\")\n",
    "        elif gender == \"female\" and age >= 18:\n",
    "            print(\"ELIGIBLE\")\n",
    "        else:\n",
    "            print(\"NOT ELIGIBLE\")\n",
    "\n",
    "\n",
    "checker = CheckEligibility()\n",
    "\n",
    "\n",
    "checker.check_eligibility()\n"
   ]
  },
  {
   "cell_type": "code",
   "execution_count": 2,
   "id": "acb0df59-f3a8-4d89-9aa4-8586535582bc",
   "metadata": {},
   "outputs": [
    {
     "name": "stdin",
     "output_type": "stream",
     "text": [
      "Enter the total marks obtained in 10th: 450\n",
      "Enter the total marks for 10th:  500\n"
     ]
    },
    {
     "name": "stdout",
     "output_type": "stream",
     "text": [
      "Your percentage in 10th is: 90.0\n"
     ]
    }
   ],
   "source": [
    "class percentage:\n",
    "    def  percentage(self):\n",
    "        p1 = float(input(\"Enter the total marks obtained in 10th:\"))\n",
    "        p2 = float(input(\"Enter the total marks for 10th: \"))\n",
    "        percentage = (p1 /p2) *100\n",
    "        print(\"Your percentage in 10th is:\", percentage) \n",
    "checker = percentage ()\n",
    "\n",
    "\n",
    "checker.percentage()\n",
    "  "
   ]
  },
  {
   "cell_type": "code",
   "execution_count": 3,
   "id": "d28ea035-f14f-4206-bc12-fcf0077396f0",
   "metadata": {},
   "outputs": [
    {
     "name": "stdin",
     "output_type": "stream",
     "text": [
      "Subject1:  98\n",
      "Subject2:  87\n",
      "Subject3:  95\n",
      "Subject4:  95\n",
      "Subject5:  93\n"
     ]
    },
    {
     "name": "stdout",
     "output_type": "stream",
     "text": [
      "total is : 468\n",
      "Percentage is: 93.60000000000001\n"
     ]
    }
   ],
   "source": [
    "class total:\n",
    "      def total(self):\n",
    "          s1 = int(input(\"Subject1: \"))  \n",
    "          s2 = int(input(\"Subject2: \"))  \n",
    "          s3 = int(input(\"Subject3: \"))  \n",
    "          s4 = int(input(\"Subject4: \"))  \n",
    "          s5 = int(input(\"Subject5: \"))  \n",
    "    \n",
    "          total = s1 + s2 + s3 + s4 + s5\n",
    "          percentage = (total / 500) * 100\n",
    "          print(\"total is :\",total)\n",
    "          print(\"Percentage is:\", percentage)  \n",
    "checker = total()\n",
    "\n",
    "\n",
    "checker.total()\n",
    "  \n"
   ]
  },
  {
   "cell_type": "code",
   "execution_count": 4,
   "id": "5a64ab90-4993-457f-a255-7b0afaa7ce88",
   "metadata": {},
   "outputs": [
    {
     "name": "stdin",
     "output_type": "stream",
     "text": [
      "enter triangle side1: 30\n",
      "enter triangle side2: 12\n",
      "enter triangle side3: 15\n"
     ]
    },
    {
     "name": "stdout",
     "output_type": "stream",
     "text": [
      "perimeter of triangle is:  57\n"
     ]
    }
   ],
   "source": [
    "class perimeter:\n",
    "      def perimeter(self):\n",
    "          a = int(input(\"enter triangle side1:\"))\n",
    "          b = int(input(\"enter triangle side2:\"))\n",
    "          c = int(input(\"enter triangle side3:\"))\n",
    "    \n",
    "          perimeter = a + b + c\n",
    "          print(\"perimeter of triangle is: \",perimeter)\n",
    "checker = perimeter() \n",
    "checker.perimeter()"
   ]
  },
  {
   "cell_type": "code",
   "execution_count": 5,
   "id": "3acb4be1-2574-4c1e-82e1-bf0ca2bc69d1",
   "metadata": {},
   "outputs": [
    {
     "name": "stdin",
     "output_type": "stream",
     "text": [
      "enter triangle Height:  54\n",
      "enter triangle Breadth:  84\n"
     ]
    },
    {
     "name": "stdout",
     "output_type": "stream",
     "text": [
      "area of triangle is :  2268.0\n"
     ]
    }
   ],
   "source": [
    "class area:\n",
    "       def area(self):\n",
    "           Height = int(input(\"enter triangle Height: \"))\n",
    "           Breadth = int(input(\"enter triangle Breadth: \"))\n",
    "\n",
    "           area = (Height * Breadth) / 2\n",
    "           print(\"area of triangle is : \",area )\n",
    "checker = area() \n",
    "checker.area()   \n",
    "\n",
    "\n"
   ]
  },
  {
   "cell_type": "code",
   "execution_count": 6,
   "id": "012149a7-28eb-48f3-a922-406f0c5348c1",
   "metadata": {},
   "outputs": [
    {
     "name": "stdin",
     "output_type": "stream",
     "text": [
      "enter triangle Height:  32\n",
      "enter triangle Breadth:  34\n"
     ]
    },
    {
     "name": "stdout",
     "output_type": "stream",
     "text": [
      " area = (Height * Breadth) / 2\n",
      "area of triangle is :  544.0\n"
     ]
    },
    {
     "name": "stdin",
     "output_type": "stream",
     "text": [
      "enter triangle side1: 2\n",
      "enter triangle side2: 4\n",
      "enter triangle side3: 4\n"
     ]
    },
    {
     "name": "stdout",
     "output_type": "stream",
     "text": [
      "perimeter = Height1 + Height2 + Breadth\n",
      "perimeter of triangle is:  10\n"
     ]
    }
   ],
   "source": [
    "class triangle:\n",
    "      def triangle(self):\n",
    "          Height = int(input(\"enter triangle Height: \"))\n",
    "          Breadth = int(input(\"enter triangle Breadth: \"))\n",
    "\n",
    "          area = (Height * Breadth) / 2\n",
    "          print(\" area = (Height * Breadth) / 2\")\n",
    "          print(\"area of triangle is : \",area )\n",
    "\n",
    "          Height1 = int(input(\"enter triangle side1:\"))\n",
    "          Height2 = int(input(\"enter triangle side2:\"))\n",
    "          Breadth = int(input(\"enter triangle side3:\"))\n",
    "    \n",
    "          perimeter = Height1 + Height2 + Breadth\n",
    "          print(\"perimeter = Height1 + Height2 + Breadth\")\n",
    "          print(\"perimeter of triangle is: \",perimeter)\n",
    "          \n",
    "checker = triangle() \n",
    "checker.triangle()"
   ]
  },
  {
   "cell_type": "code",
   "execution_count": null,
   "id": "fd64f638-2353-403a-9187-1e39e88240d3",
   "metadata": {},
   "outputs": [],
   "source": []
  }
 ],
 "metadata": {
  "kernelspec": {
   "display_name": "Python 3 (ipykernel)",
   "language": "python",
   "name": "python3"
  },
  "language_info": {
   "codemirror_mode": {
    "name": "ipython",
    "version": 3
   },
   "file_extension": ".py",
   "mimetype": "text/x-python",
   "name": "python",
   "nbconvert_exporter": "python",
   "pygments_lexer": "ipython3",
   "version": "3.11.7"
  }
 },
 "nbformat": 4,
 "nbformat_minor": 5
}
